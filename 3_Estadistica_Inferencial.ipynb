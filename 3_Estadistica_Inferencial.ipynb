{
  "cells": [
    {
      "cell_type": "markdown",
      "metadata": {},
      "source": [
        "# **Estadística Inferencial**\n"
      ]
    },
    {
      "cell_type": "markdown",
      "id": "2a0f8af6",
      "metadata": {},
      "source": [
        "### Definición general de estadística inferencial\n",
        "\n",
        "La estadística tiene como objetivo aprender a partir de datos.  Ross explica que consiste en dos vertientes: la *estadística descriptiva*, que sintetiza los datos mediante tablas, gráficos y medidas, y la *estadística inferencial*, que utiliza una muestra para obtener conclusiones sobre la población de interés.  Este autor aclara también los conceptos de *población* (conjunto de todos los elementos de interés) y *muestra* (subconjunto de la población del que se obtienen datos).  Mendenhall et al. destacan en el prefacio que la estadística es una teoría de la información cuyo propósito principal es hacer inferencias, es decir, proporcionar estimaciones e intervalos de confianza a partir de datos observados.  Rincón subraya que la inferencia estadística abarca tres temas clásicos—estimación puntual, estimación por intervalos y pruebas de hipótesis—y que sus métodos se aplican a problemas de diversas áreas, en particular en actuaría.\n",
        "\n",
        "### Estimadores y propiedades deseables\n",
        "\n",
        "Sea $U$ un parámetro poblacional (por ejemplo, la media o la varianza de una distribución) y $\\hat U$ un *estimador puntual*, es decir, una variable aleatoria calculada a partir de una muestra con el objetivo de aproximar $U$.  Para evaluar la calidad de un estimador se consideran las siguientes propiedades:\n",
        "\n",
        "#### Insesgadez\n",
        "Mendenhall et al. definen un estimador $\\hat{U}$ como *insesgado* si su esperanza coincide con el parámetro, es decir, $E(\\hat{U}) = U$.  En caso contrario, se dice que el estimador es sesgado; el sesgo se cuantifica mediante la cantidad\n",
        "$$\n",
        "B(\\hat{U}) = E(\\hat{U}) - U.\n",
        "$$\n",
        "\n",
        "La insesgadez garantiza que, en promedio, el método de estimación no sobrestima ni subestima el parámetro.  Otra medida de precisión es el *error cuadrático medio* (ECM), definido como \n",
        "$\\mathrm{MSE}(\\hat{U}) = E[(\\hat{U}-U)^{2}]$; Mendenhall muestra que $\\mathrm{MSE}(\\hat{U})=\\mathrm{Var}(\\hat{U})+B(\\hat{U})^{2}$.  Incluso un estimador sesgado puede tener un ECM pequeño y resultar atractivo en presencia de varianzas grandes.\n",
        "\n",
        "#### Consistencia\n",
        "\n",
        "Los estadísticos requieren que un estimador produzca valores cada vez más cercanos al parámetro al aumentar el tamaño muestral.  Mendenhall et al. formalizan la *consistencia* así: un estimador $\\hat{U}_{n}$ de $U$ es consistente si para toda $\\varepsilon>0$ se cumple\n",
        "$$\n",
        "\\lim_{n\\to\\infty}\\mathbb{P}(|\\hat{U}_{n}-U|<\\varepsilon)=1\n",
        "$$\n",
        "En palabras, la probabilidad de que el error absoluto sea menor que cualquier tolerancia positiva tiende a uno cuando el tamaño de la muestra $n$ crece.  Un ejemplo citado por los autores consiste en estimar la probabilidad $p$ de obtener cara en una moneda, donde el estimador $\\hat{p}=Y/n$ (número de caras dividido entre el número de lanzamientos) es consistente porque la distribución de $Y/n$ se concentra alrededor de $p$ al incrementarse $n$.\n",
        "\n",
        "#### Eficiencia y eficiencia relativa\n",
        "Cuando existen múltiples estimadores insesgados de un mismo parámetro, se prefiere aquel cuya varianza sea menor.  La \\emph{eficiencia relativa} entre dos estimadores insesgados $\\hat{U}_{1}$ y $\\hat{U}_{2}$ con varianzas $\\mathrm{Var}(\\hat{U}_{1})$ y $\\mathrm{Var}(\\hat{U}_{2})$ se define como\n",
        "$$\n",
        "\\mathrm{Eff}(\\hat{U}_{1},\\hat{U}_{2}) = \\frac{\\mathrm{Var}(\\hat{U}_{2})}{\\mathrm{Var}(\\hat{U}_{1})}\n",
        "$$\n",
        "\n",
        "Si $\\mathrm{Eff}(\\hat{U}_{1},\\hat{U}_{2})>1$, entonces $\\hat{U}_{1}$ es más eficiente que $\\hat{U}_{2}$.  Mendenhall et al. ilustran este concepto al comparar la media muestral $\\bar{Y}$ y la mediana muestral $\\tilde{Y}$ como estimadores de la media de una distribución normal; calculan que la eficiencia de $\\tilde{Y}$ respecto a $\\bar{Y}$ es aproximadamente $0{,}64$, lo que indica que $\\tilde{Y}$ es menos eficiente.  En la práctica actuarial, la selección de un estimador con menor varianza puede traducirse en primas de seguros más justas y reservas más estables.\n",
        "\n",
        "### Métodos de estimación\n",
        "\n",
        "#### Método de los momentos\n",
        "\n",
        "El método de los momentos consiste en igualar momentos muestrales con sus homólogos poblacionales y resolver las ecuaciones resultantes para los parámetros.  Sea $Y$ una variable aleatoria con parámetro $U$ y momentos poblacionales $m_{k}=E(Y^{k})$.  El $k$‑ésimo *momento muestral* alrededor del origen se define como\n",
        "$$\n",
        "\\hat{m}_{k} = \\frac{1}{n}\\sum_{i=1}^{n} Y_{i}^{k}\n",
        "$$\n",
        "\n",
        "Para estimar $U$ se igualan los primeros $r$ momentos muestrales con los correspondientes momentos teóricos y se resuelve el sistema de ecuaciones.  Mendenhall et al. exponen un ejemplo sencillo: si $Y$ sigue una distribución uniforme continua en $(0, u)$, su media poblacional es $E(Y)=u/2$.  Igualando la media muestral $\\bar{Y}$ a $u/2$ se obtiene el estimador de momentos\n",
        "$$\n",
        "\\hat{u} = 2\\bar{Y}\n",
        "$$\n",
        "\n",
        "\n",
        "\n",
        "#### Método de máxima verosimilitud (EMV)\n",
        "\n",
        "El método de máxima verosimilitud busca los valores de los parámetros que maximizan la verosimilitud de los datos observados.  Sea $f(y\\,|\\,\\theta)$ la función de densidad o masa de probabilidad del modelo paramétrico con parámetro $\\theta$, y sea $\\mathbf{y}=(y_{1},\\ldots,y_{n})$ una muestra independiente.  La *función de verosimilitud* es\n",
        "$$\n",
        "L(\\theta\\,|\\,\\mathbf{y})=\\prod_{i=1}^{n} f(y_{i}\\,|\\,\\theta)\n",
        "$$\n",
        "\n",
        "El *estimador de máxima verosimilitud* (EMV) $\\hat{\\theta}$ es el valor de $\\theta$ que maximiza $L(\\theta\\,|\\,\\mathbf{y})$.  Mendenhall et al. introducen la lógica de este método mediante un ejemplo: una caja contiene pelotas rojas y blancas, pero se desconoce el número total de pelotas rojas.  Si una muestra de dos pelotas sin reemplazo resulta ser roja en ambas extracciones, es más razonable estimar que hay tres pelotas rojas en la caja (en lugar de dos) porque esa hipótesis maximiza la probabilidad de la muestra observada.  El ejemplo ilustra que el EMV selecciona la propuesta que otorga mayor credibilidad a los datos observados.\n",
        "\n",
        "- Ejemplo actuarial.\n",
        "\n",
        " Considérese un portafolio donde el número $X$ de siniestros semanales sigue una distribución de Poisson con parámetro $\\lambda$.  La función de probabilidad es $f(x\\,|\\,\\lambda)=e^{-\\lambda}\\lambda^{x}/x!$.  Para una muestra de siniestros $(x_{1},\\ldots,x_{n})$, la función de verosimilitud es\n",
        "$$\n",
        "L(\\lambda\\,|\\,\\mathbf{x}) = \\prod_{i=1}^{n} e^{-\\lambda} \\frac{\\lambda^{x_{i}}}{x_{i}!} = e^{-n\\lambda} \\lambda^{\\sum x_{i}} \\prod_{i=1}^{n}\\frac{1}{x_{i}!}.\n",
        "$$\n",
        "La maximización de $L$ es equivalente a maximizar $\\ell(\\lambda)=\\log L = -n\\lambda + (\\sum x_{i})\\log\\lambda +\\text{constante}$.  Derivando e igualando a cero se obtiene\n",
        "$$\n",
        "\\frac{d\\ell}{d\\lambda} = -n + \\frac{\\sum x_{i}}{\\lambda} = 0 \\quad\\Longrightarrow\\quad \\hat{\\lambda}=\\bar{X}\n",
        "$$\n",
        "Así, el EMV del parámetro de Poisson es la media muestral $\\bar{X}$.  Esta estimación es ampliamente utilizada en la tarificación de seguros de daños, ya que el número de siniestros suele modelarse como Poisson\n",
        "\n",
        "### Intervalos de confianza\n",
        "Mientras que la estimación puntual proporciona un único valor, los *intervalos de confianza* comunican la incertidumbre alrededor de una estimación.  Rincón señala que la inferencia estadística incluye la estimación por intervalos y que este enfoque permite cuantificar la precisión de las estimaciones.  En la literatura clásica (Mood et al., Mendenhall et al.) un intervalo de confianza para un parámetro $U$ se define como un par de funciones de la muestra $(L(\\mathbf{Y}), U(\\mathbf{Y}))$ que, con probabilidad $1-\\alpha$, contiene el verdadero valor de $U$.  Es decir,\n",
        "$$\n",
        "\\mathbb{P}\\bigl(L(\\mathbf{Y}) \\leq U \\leq U(\\mathbf{Y})\\bigr) = 1-\\alpha.\n",
        "$$\n",
        "El nivel de confianza $(1-\\alpha)$ suele elegirse como $95%$ o $99%$.  El límite inferior $L(\\mathbf{Y})$ y el límite superior $U(\\mathbf{Y})$ dependen de la distribución muestral del estimador y, a menudo, de cuantiles de la distribución normal o t de Student.\n",
        "\n",
        "\n",
        "### Conclusiones y comentarios comparativos\n",
        "Los cuatro textos consultados coinciden en que la inferencia estadística se centra en deducir características desconocidas de la población mediante la información contenida en una muestra.  Ross enfatiza la dicotomía entre estadística descriptiva e inferencial, mientras que Mendenhall et al. describen la estadística como una teoría de la información orientada a la inferencia.  Rincón destaca la relevancia de las técnicas de estimación puntual, intervalos de confianza y pruebas de hipótesis en la formación de actuarios.  Mood et al. dedican capítulos completos a los métodos de momentos, máxima verosimilitud, propiedades de los estimadores y construcción de intervalos de confianza, resaltando la amplitud de herramientas disponibles.\n",
        "\n",
        "En cuanto a las propiedades de los estimadores, Mendenhall et al. proporcionan definiciones rigurosas de insesgadez, consistencia y eficiencia relativa.  Estos criterios permiten comparar métodos de estimación y seleccionar el más apropiado en función de la varianza, el sesgo y el comportamiento asintótico.  El método de los momentos ofrece estimaciones sencillas basadas en igualar momentos teóricos y muestrales, como la estimación de la cota superior de una distribución uniforme.  El método de máxima verosimilitud, por otro lado, proporciona estimaciones que maximizan la plausibilidad de los datos y, en muchas situaciones, posee buenas propiedades asintóticas.  Finalmente, los intervalos de confianza complementan la estimación puntual al suministrar un rango de valores coherente con la variabilidad muestral; su construcción requiere conocer o suponer la distribución del estimador y elegir un nivel de confianza acorde con la tolerancia al error.\n",
        "\n",
        "\n"
      ]
    },
    {
      "cell_type": "code",
      "execution_count": 1,
      "metadata": {},
      "outputs": [
        {
          "name": "stdout",
          "output_type": "stream",
          "text": [
            "IC 95%: (44.76, 51.48)\n"
          ]
        }
      ],
      "source": [
        "import numpy as np\n",
        "import scipy.stats as stats\n",
        "import matplotlib.pyplot as plt\n",
        "\n",
        "# Intervalo de confianza\n",
        "np.random.seed(42)\n",
        "muestra = np.random.normal(loc=50, scale=10, size=30)\n",
        "media_muestra = np.mean(muestra)\n",
        "std_muestra = np.std(muestra, ddof=1)\n",
        "n = len(muestra)\n",
        "confianza = 0.95\n",
        "t_critico = stats.t.ppf(1-(1-confianza)/2, df=n-1)\n",
        "error = t_critico*(std_muestra/np.sqrt(n))\n",
        "ic_inferior = media_muestra - error\n",
        "ic_superior = media_muestra + error\n",
        "print(f'IC 95%: ({ic_inferior:.2f}, {ic_superior:.2f})')"
      ]
    },
    {
      "cell_type": "code",
      "execution_count": 4,
      "metadata": {},
      "outputs": [
        {
          "data": {
            "image/png": "[encoded data removed]",
            "text/plain": [
              "<Figure size 640x480 with 1 Axes>"
            ]
          },
          "metadata": {},
          "output_type": "display_data"
        }
      ],
      "source": [
        "# Visualización del IC\n",
        "plt.errorbar(1, media_muestra, yerr=error, fmt='o', color='orchid', capsize=5)\n",
        "plt.xlim(0,2)\n",
        "plt.xticks([1], ['Media muestra'])\n",
        "plt.ylabel('Valor')\n",
        "plt.title('Intervalo de confianza 95%')\n",
        "plt.show()"
      ]
    }
  ],
  "metadata": {
    "kernelspec": {
      "display_name": "Python 3",
      "language": "python",
      "name": "python3"
    },
    "language_info": {
      "codemirror_mode": {
        "name": "ipython",
        "version": 3
      },
      "file_extension": ".py",
      "mimetype": "text/x-python",
      "name": "python",
      "nbconvert_exporter": "python",
      "pygments_lexer": "ipython3",
      "version": "3.11.5"
    }
  },
  "nbformat": 4,
  "nbformat_minor": 5
}
