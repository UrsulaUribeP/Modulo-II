{
 "cells": [
  {"cell_type": "markdown", "metadata": {}, "source": ["# Estadística Inferencial\nEstimadores, IC y visualización."]},
  {"cell_type": "code", "metadata": {}, "source": ["import numpy as np\nimport scipy.stats as stats\nimport matplotlib.pyplot as plt\n\n# Intervalo de confianza\nnp.random.seed(42)\nmuestra = np.random.normal(loc=50, scale=10, size=30)\nmedia_muestra = np.mean(muestra)\nstd_muestra = np.std(muestra, ddof=1)\nn = len(muestra)\nconfianza = 0.95\nt_critico = stats.t.ppf(1-(1-confianza)/2, df=n-1)\nerror = t_critico*(std_muestra/np.sqrt(n))\nic_inferior = media_muestra - error\nic_superior = media_muestra + error\nprint(f'IC 95%: ({ic_inferior:.2f}, {ic_superior:.2f})')"]},
  {"cell_type": "code", "metadata": {}, "source": ["# Visualización del IC\nplt.errorbar(1, media_muestra, yerr=error, fmt='o', color='red', capsize=5)\nplt.xlim(0,2)\nplt.xticks([1], ['Media muestra'])\nplt.ylabel('Valor')\nplt.title('Intervalo de confianza 95%')\nplt.show()"]}
 ],
 "metadata": {},
 "nbformat": 4,
 "nbformat_minor": 5
}