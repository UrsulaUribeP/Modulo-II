{
 "cells": [
  {"cell_type": "markdown", "metadata": {}, "source": ["# Variables Aleatorias\nEjemplos discretos y continuos."]},
  {"cell_type": "code", "metadata": {}, "source": ["import numpy as np\nimport matplotlib.pyplot as plt\nimport seaborn as sns\nfrom scipy.stats import binom, norm\n\n# Distribución Binomial\nn_lanzamientos = 10\np_exito = 0.5\nx = np.arange(0,n_lanzamientos+1)\npmf = binom.pmf(x,n_lanzamientos,p_exito)\nsns.barplot(x=x, y=pmf, color='skyblue')\nplt.title('Distribución Binomial (n=10, p=0.5)')\nplt.ylabel('P(X=x)')\nplt.xlabel('x')\nplt.show()\nprint(f'E[X]={n_lanzamientos*p_exito}, Var[X]={n_lanzamientos*p_exito*(1-p_exito)}')"]},
  {"cell_type": "code", "metadata": {}, "source": ["# Distribución Normal\nx = np.linspace(-4,4,200)\npdf = norm.pdf(x, loc=0, scale=1)\nplt.plot(x,pdf, color='blue')\nplt.title('Distribución Normal estándar')\nplt.xlabel('x')\nplt.ylabel('f(x)')\nplt.show()\n\n# Simulación TCL\nn_muestras = 10000\nmuestras = np.random.normal(0,1,(n_muestras,30))\nmedias = muestras.mean(axis=1)\nplt.hist(medias,bins=30,density=True,color='lightgreen', edgecolor='black')\nplt.title('Distribución de la media (TCL, n=30)')\nplt.show()"]}
 ],
 "metadata": {},
 "nbformat": 4,
 "nbformat_minor": 5
}