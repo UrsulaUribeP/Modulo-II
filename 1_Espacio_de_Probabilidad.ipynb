{
 "cells": [
  {"cell_type": "markdown", "metadata": {}, "source": ["# Espacio de Probabilidad\n", "Simulación de ejemplos y visualizaciones."]},
  {"cell_type": "code", "metadata": {}, "source": ["import numpy as np\nimport matplotlib.pyplot as plt\n\n# Volado de moneda\nnp.random.seed(42)\nn = 1000\nlanzamientos = np.random.choice(['Cara', 'Sello'], size=n, p=[0.5,0.5])\ncaras = np.sum(lanzamientos == 'Cara')\nsellos = np.sum(lanzamientos == 'Sello')\nprint(f'Caras: {caras}, Sellos: {sellos}')\nplt.bar(['Cara','Sello'], [caras,sellos], color=['skyblue','salmon'])\nplt.title('Simulación 1000 lanzamientos de moneda')\nplt.ylabel('Frecuencia')\nplt.show()"]},
  {"cell_type": "code", "metadata": {}, "source": ["# Problema del encuentro\nn_sim = 10000\nllegada_persona1 = np.random.uniform(0,60,n_sim)\nllegada_persona2 = np.random.uniform(0,60,n_sim)\nencuentro = np.abs(llegada_persona1-llegada_persona2)<=15\nprob_encuentro = np.mean(encuentro)\nprint(f'Probabilidad de encuentro: {prob_encuentro:.3f}')\nplt.scatter(llegada_persona1,llegada_persona2, alpha=0.1)\nplt.plot([0,60],[0,60], color='red', linestyle='--', label='x=y')\nplt.title('Simulación del problema del encuentro')\nplt.xlabel('Llegada Persona 1 (min)')\nplt.ylabel('Llegada Persona 2 (min)')\nplt.legend()\nplt.show()"]}
 ],
 "metadata": {},
 "nbformat": 4,
 "nbformat_minor": 5
}